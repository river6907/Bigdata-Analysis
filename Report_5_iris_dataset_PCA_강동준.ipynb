{
  "nbformat": 4,
  "nbformat_minor": 0,
  "metadata": {
    "colab": {
      "provenance": [],
      "collapsed_sections": [],
      "authorship_tag": "ABX9TyNtBv62mr+WOVleWray4YR+",
      "include_colab_link": true
    },
    "kernelspec": {
      "name": "python3",
      "display_name": "Python 3"
    },
    "language_info": {
      "name": "python"
    }
  },
  "cells": [
    {
      "cell_type": "markdown",
      "metadata": {
        "id": "view-in-github",
        "colab_type": "text"
      },
      "source": [
        "<a href=\"https://colab.research.google.com/github/river6907/Bigdata-Analysis/blob/main/Report_5_iris_dataset_PCA_%EA%B0%95%EB%8F%99%EC%A4%80.ipynb\" target=\"_parent\"><img src=\"https://colab.research.google.com/assets/colab-badge.svg\" alt=\"Open In Colab\"/></a>"
      ]
    },
    {
      "cell_type": "markdown",
      "source": [
        "# Report 5. iris dataset을 이용한 차원축소 연습"
      ],
      "metadata": {
        "id": "bPmp8Lkai-2d"
      }
    },
    {
      "cell_type": "markdown",
      "source": [
        " sklearn.datasets의 load_iris()사용 "
      ],
      "metadata": {
        "id": "5UV9GL9SjAy8"
      }
    },
    {
      "cell_type": "code",
      "source": [
        "import pandas as pd\n",
        "import numpy as np\n",
        "import matplotlib\n",
        "import matplotlib.pyplot as plt\n",
        "from IPython.display import  display\n",
        "\n",
        "from sklearn.preprocessing import StandardScaler\n",
        "from sklearn.model_selection import train_test_split"
      ],
      "metadata": {
        "id": "KwL7uc2ylcCc"
      },
      "execution_count": 7,
      "outputs": []
    },
    {
      "cell_type": "markdown",
      "source": [
        "# 1) 3개의 주성분을 구하여  분산비율 확인"
      ],
      "metadata": {
        "id": "iF7DGHuWjB6M"
      }
    },
    {
      "cell_type": "code",
      "source": [
        "from sklearn.datasets import load_iris\n",
        "from sklearn.preprocessing import StandardScaler\n",
        "from sklearn.decomposition import PCA\n",
        "iris = load_iris()\n",
        "print(\"iris 일부 데이터: \\n\", iris.data[:5])\n",
        "\n",
        "#iris 데이터의 특징값만 추출\n",
        "iris2 =  iris.data\n",
        "\n",
        "#데이터 표준화 \n",
        "X = StandardScaler().fit_transform(iris2)\n",
        "\n",
        "#주성분 모델 생성 맟 데이터 변환\n",
        "pca = PCA(n_components=3) #주성분의 개수를 설정하여 객체 생성\n",
        "PCs = pca.fit_transform(X) #주성분 모델로 데이터 변환\n",
        "\n",
        "# 주성분 선형 변환된 데이터 프레임 구성\n",
        "pcdf = pd.DataFrame(data=PCs, columns = ['PC1', 'PC2', 'PC3'])\n",
        "\n",
        "# 주성분의 분산비율\n",
        "print('pca.explained_variance_ratio_=', pca.explained_variance_ratio_)"
      ],
      "metadata": {
        "colab": {
          "base_uri": "https://localhost:8080/"
        },
        "id": "MuoSmB36lEnl",
        "outputId": "77282ef0-9ac5-49ae-8848-7dd2e94bd5a7"
      },
      "execution_count": 8,
      "outputs": [
        {
          "output_type": "stream",
          "name": "stdout",
          "text": [
            "iris 일부 데이터: \n",
            " [[5.1 3.5 1.4 0.2]\n",
            " [4.9 3.  1.4 0.2]\n",
            " [4.7 3.2 1.3 0.2]\n",
            " [4.6 3.1 1.5 0.2]\n",
            " [5.  3.6 1.4 0.2]]\n",
            "pca.explained_variance_ratio_= [0.72962445 0.22850762 0.03668922]\n"
          ]
        }
      ]
    },
    {
      "cell_type": "markdown",
      "source": [
        "# 2) PCA components 히트맵 그래프 "
      ],
      "metadata": {
        "id": "LmPtP33IjEBs"
      }
    },
    {
      "cell_type": "code",
      "source": [
        "#principal components \n",
        "features = iris.feature_names\n",
        "\n",
        "#principal components \n",
        "print(\"principal components (iris Data):\")\n",
        "print(pca.components_)\n",
        "\n",
        "#principal components 그래프\n",
        "plt.matshow(pca.components_, cmap='viridis')\n",
        "plt.yticks([0, 1,2], [\"PCA1\", \"PCA2\",  \"PCA3\"])\n",
        "plt.colorbar()\n",
        "plt.xticks(range(len(features)),\n",
        "           features, rotation=60, ha='left')\n",
        "plt.xlabel(\"features\")\n",
        "plt.ylabel(\"PCA\")\n",
        "plt.show()"
      ],
      "metadata": {
        "colab": {
          "base_uri": "https://localhost:8080/",
          "height": 394
        },
        "id": "_0Ye_w71mzN-",
        "outputId": "1b9a05ab-24dc-46b8-9866-9d7a0d9fd2a0"
      },
      "execution_count": 10,
      "outputs": [
        {
          "output_type": "stream",
          "name": "stdout",
          "text": [
            "principal components (iris Data):\n",
            "[[ 0.52106591 -0.26934744  0.5804131   0.56485654]\n",
            " [ 0.37741762  0.92329566  0.02449161  0.06694199]\n",
            " [-0.71956635  0.24438178  0.14212637  0.63427274]]\n"
          ]
        },
        {
          "output_type": "display_data",
          "data": {
            "text/plain": [
              "<Figure size 384x288 with 2 Axes>"
            ],
            "image/png": "[encoded data removed]"
          },
          "metadata": {
            "needs_background": "light"
          }
        }
      ]
    },
    {
      "cell_type": "markdown",
      "source": [
        "# 3) 주성분 2개에 대한 붓꽃 종류별 scatter plot "
      ],
      "metadata": {
        "id": "hXQVuESSjGHs"
      }
    },
    {
      "cell_type": "code",
      "source": [
        "#붓꽃 종류 칼럼 추가 \n",
        "pcdf['species'] = iris.target\n",
        "grouped = pcdf.groupby('species')\n",
        "\n",
        "#타입별  PC1, PC2 scatter plot \n",
        "lbl = iris.target_names\n",
        "plt.figure(figsize=(7,7))\n",
        "for name, group in grouped:\n",
        "    plt.scatter(group.PC1, group.PC2,  label=name)\n",
        "plt.legend(fontsize=12, loc='upper left') \n",
        "plt.title('iris PCA', fontsize=15)\n",
        "plt.xlabel('PC1', fontsize=12)\n",
        "plt.ylabel('PC2', fontsize=12)\n",
        "plt.legend(lbl, loc=\"best\")\n",
        "plt.show() "
      ],
      "metadata": {
        "colab": {
          "base_uri": "https://localhost:8080/",
          "height": 463
        },
        "id": "_WqvLF2smzh2",
        "outputId": "ebe46c84-80e9-4eaa-f2a2-d56270198e76"
      },
      "execution_count": 11,
      "outputs": [
        {
          "output_type": "display_data",
          "data": {
            "text/plain": [
              "<Figure size 504x504 with 1 Axes>"
            ],
            "image/png": "[encoded data removed]"
          },
          "metadata": {
            "needs_background": "light"
          }
        }
      ]
    },
    {
      "cell_type": "markdown",
      "source": [
        "# 4)전체 특징을 모두 사용한 데이터와 주성분 2개 만을 사용한 분류성능 확인"
      ],
      "metadata": {
        "id": "QBWLiGESjJy8"
      }
    },
    {
      "cell_type": "code",
      "execution_count": 12,
      "metadata": {
        "colab": {
          "base_uri": "https://localhost:8080/"
        },
        "id": "7gu4dYOHi3Wx",
        "outputId": "75c83eec-ec08-4363-de0e-ef2671b9d2d8"
      },
      "outputs": [
        {
          "output_type": "stream",
          "name": "stdout",
          "text": [
            "iris Data\n",
            "(150, 4)\n",
            "테스트 세트의 정확도: 0.95\n"
          ]
        }
      ],
      "source": [
        "#iris 전체 데이터 모델 평가\n",
        "X = iris.data\n",
        "y = iris.target\n",
        "\n",
        "print(\"iris Data\")\n",
        "print(X.shape)\n",
        "\n",
        "from sklearn.model_selection import train_test_split\n",
        "Xtrain, Xtest, ytrain, ytest = train_test_split(X, y, random_state=5)\n",
        "\n",
        "#k-NN\n",
        "from sklearn.neighbors import KNeighborsClassifier\n",
        "model = KNeighborsClassifier(n_neighbors=3)\n",
        "model.fit(Xtrain, ytrain)           #학습데이터를 이용하여 모델링\n",
        "acc = model.score(Xtest, ytest)  #테스트 데이터 예측결과에 대한 성능\n",
        "print(\"테스트 세트의 정확도: {:.2f}\".format(acc))"
      ]
    },
    {
      "cell_type": "code",
      "source": [
        "#데이터를 2개 주성분으로 변환하여 2차원으로 축소한 모델 평가\n",
        "X = pcdf[['PC1','PC2']]\n",
        "y = pcdf['species']\n",
        "print(\"iris PCA data\")\n",
        "print(X.shape)\n",
        "from sklearn.model_selection import train_test_split\n",
        "Xtrain, Xtest, ytrain, ytest = train_test_split(X, y, random_state=5)\n",
        "\n",
        "#k-NN\n",
        "from sklearn.neighbors import KNeighborsClassifier\n",
        "model = KNeighborsClassifier(n_neighbors=3)\n",
        "model.fit(Xtrain, ytrain)           #학습데이터를 이용하여 모델링\n",
        "acc = model.score(Xtest, ytest)    #테스트 데이터 예측결과에 대한 성능\n",
        "print(\"테스트 세트의 정확도: {:.2f}\".format(acc))"
      ],
      "metadata": {
        "colab": {
          "base_uri": "https://localhost:8080/"
        },
        "id": "vHO7k7EBsMxQ",
        "outputId": "f05980bb-a3d7-43d0-89d0-6e71d6dcd252"
      },
      "execution_count": 13,
      "outputs": [
        {
          "output_type": "stream",
          "name": "stdout",
          "text": [
            "iris PCA data\n",
            "(150, 2)\n",
            "테스트 세트의 정확도: 0.95\n"
          ]
        }
      ]
    }
  ]
}