{
  "nbformat": 4,
  "nbformat_minor": 0,
  "metadata": {
    "colab": {
      "provenance": [],
      "authorship_tag": "ABX9TyNjqm+LArHJ6BxoipvSBzQ9",
      "include_colab_link": true
    },
    "kernelspec": {
      "name": "python3",
      "display_name": "Python 3"
    },
    "language_info": {
      "name": "python"
    }
  },
  "cells": [
    {
      "cell_type": "markdown",
      "metadata": {
        "id": "view-in-github",
        "colab_type": "text"
      },
      "source": [
        "<a href=\"https://colab.research.google.com/github/river6907/Bigdata-Analysis/blob/main/Report4_irisClassification_%EA%B0%95%EB%8F%99%EC%A4%80.ipynb\" target=\"_parent\"><img src=\"https://colab.research.google.com/assets/colab-badge.svg\" alt=\"Open In Colab\"/></a>"
      ]
    },
    {
      "cell_type": "markdown",
      "source": [
        "# Report 4. iris classification 연습 "
      ],
      "metadata": {
        "id": "o0LqJGRJby5j"
      }
    },
    {
      "cell_type": "code",
      "source": [
        "import numpy as np\n",
        "import matplotlib.pyplot as plt\n",
        "import pandas as pd"
      ],
      "metadata": {
        "id": "2lO3KCZ4byjr"
      },
      "execution_count": 6,
      "outputs": []
    },
    {
      "cell_type": "code",
      "execution_count": 1,
      "metadata": {
        "colab": {
          "base_uri": "https://localhost:8080/"
        },
        "id": "10SS1bwpbRnZ",
        "outputId": "de8768df-7ee3-494c-e17e-3c9f00fd8512"
      },
      "outputs": [
        {
          "output_type": "stream",
          "name": "stdout",
          "text": [
            "iris_dataset의 key:  dict_keys(['data', 'target', 'frame', 'target_names', 'DESCR', 'feature_names', 'filename', 'data_module'])\n",
            ".. _iris_dataset:\n",
            "\n",
            "Iris plants dataset\n",
            "--------------------\n",
            "\n",
            "**Data Set Characteristics:**\n",
            "\n",
            "    :Number of Instances: 150 (50 in each of three classes)\n",
            "    :Number of Attributes: 4 numeric, predictive attributes and the class\n",
            "    :Attribute Information:\n",
            "        - sepal length in cm\n",
            "        - sepal width in cm\n",
            "        - petal length in cm\n",
            "        - petal width in cm\n",
            "        - class:\n",
            "                - Iris-Setosa\n",
            "                - Iris-Versicolour\n",
            "                - Iris-Virginica\n",
            "                \n",
            "\n",
            "...\n",
            "target 이름:  ['setosa' 'versicolor' 'virginica']\n",
            "feature 이름:  ['sepal length (cm)', 'sepal width (cm)', 'petal length (cm)', 'petal width (cm)']\n",
            "data의 타입:  <class 'numpy.ndarray'>\n",
            "data의 크기:  (150, 4)\n",
            "data의 처음 다섯 행:  [[5.1 3.5 1.4 0.2]\n",
            " [4.9 3.  1.4 0.2]\n",
            " [4.7 3.2 1.3 0.2]\n",
            " [4.6 3.1 1.5 0.2]\n",
            " [5.  3.6 1.4 0.2]]\n",
            "target의 타입:  <class 'numpy.ndarray'>\n",
            "target: [0 0 0 0 0 0 0 0 0 0 0 0 0 0 0 0 0 0 0 0 0 0 0 0 0 0 0 0 0 0 0 0 0 0 0 0 0\n",
            " 0 0 0 0 0 0 0 0 0 0 0 0 0 1 1 1 1 1 1 1 1 1 1 1 1 1 1 1 1 1 1 1 1 1 1 1 1\n",
            " 1 1 1 1 1 1 1 1 1 1 1 1 1 1 1 1 1 1 1 1 1 1 1 1 1 1 2 2 2 2 2 2 2 2 2 2 2\n",
            " 2 2 2 2 2 2 2 2 2 2 2 2 2 2 2 2 2 2 2 2 2 2 2 2 2 2 2 2 2 2 2 2 2 2 2 2 2\n",
            " 2 2]\n"
          ]
        }
      ],
      "source": [
        "# (1)scikit learn 제공  iris 데이터 셋 가져오기\n",
        "from sklearn.datasets import load_iris\n",
        "iris = load_iris()\n",
        "\n",
        "#iris는 key-value로 구성된 dictionary 와 유사한 bounch class\n",
        "# dataset key값 확인\n",
        "print(\"iris_dataset의 key: \", iris.keys())\n",
        "\n",
        "#데이터 설명을 포함한 'DESCR' key의  value 일부확인, \n",
        "print(iris['DESCR'][:500] + \"\\n...\")\n",
        "\n",
        "#데이터 셋 확인\n",
        "print(\"target 이름: \", iris['target_names'])\n",
        "print(\"feature 이름: \", iris['feature_names'])\n",
        "print(\"data의 타입: \", type(iris['data']))  #x, features\n",
        "print(\"data의 크기: \", iris['data'].shape)\n",
        "print(\"data의 처음 다섯 행: \", iris['data'][:5])\n",
        "print(\"target의 타입: \", type(iris['target']))\n",
        "print(\"target:\", iris['target'])   #y, target, class"
      ]
    },
    {
      "cell_type": "code",
      "source": [
        "# (2)모델링을 위한 x, y 값 설정\n",
        "irisX = iris['data']\n",
        "irisy = iris['target']\n",
        "\n",
        "# (3)데이터에 대한 모델을 평가하기위해 학습 세트 와 테스트 세트 로 분리\n",
        "from sklearn.model_selection import train_test_split\n",
        "Xtrain, Xtest, ytrain, ytest = train_test_split(irisX, irisy,\n",
        "                                                random_state=1) #testset 25% \n",
        "print(\"Xtrain.shape : \", Xtrain.shape)\n",
        "print(\"ytrain.shape : \", ytrain.shape)\n",
        "print(\"Xtest.shape : \", Xtest.shape)\n",
        "print(\"ytest.shape : \", ytest.shape)\n",
        "\n",
        "#(4)Modeling\n",
        "# 학습데이터로  GaussianNB 알고리즘으로 모델링\n",
        "from sklearn.naive_bayes import GaussianNB  #GaussianNB 모듈 가져오기  \n",
        "model = GaussianNB()                         # 모델 객체 생성\n",
        "model.fit(Xtrain, ytrain)                    #학습데이터를 이용하여 모델링\n",
        "y_pred = model.predict(Xtest)               # 새로운 데이터 예측\n",
        "print(\"테스트 세트에 대한 목표값:\", ytest)\n",
        "print(\"테스트 세트에 대한 예측값:\", y_pred)\n",
        "print(\"테스트 세트의 정확도: {:.2f}\".format(np.mean(y_pred == ytest)))\n",
        "\n",
        "#(5)예측결과에 대한 성능 확인 \n",
        "from sklearn.metrics import accuracy_score\n",
        "acc = accuracy_score(ytest, y_pred)\n",
        "print(\"accuracy_score = {:.2f}\".format(acc))"
      ],
      "metadata": {
        "colab": {
          "base_uri": "https://localhost:8080/"
        },
        "id": "-TK_OyD0btfj",
        "outputId": "2d53f7f5-c5b6-4eb7-a7d9-799bce3794d5"
      },
      "execution_count": 4,
      "outputs": [
        {
          "output_type": "stream",
          "name": "stdout",
          "text": [
            "Xtrain.shape :  (112, 4)\n",
            "ytrain.shape :  (112,)\n",
            "Xtest.shape :  (38, 4)\n",
            "ytest.shape :  (38,)\n",
            "테스트 세트에 대한 목표값: [0 1 1 0 2 1 2 0 0 2 1 0 2 1 1 0 1 1 0 0 1 1 1 0 2 1 0 0 1 2 1 2 1 2 2 0 1\n",
            " 0]\n",
            "테스트 세트에 대한 예측값: [0 1 1 0 2 1 2 0 0 2 1 0 2 1 1 0 1 1 0 0 1 1 2 0 2 1 0 0 1 2 1 2 1 2 2 0 1\n",
            " 0]\n",
            "테스트 세트의 정확도: 0.97\n",
            "accuracy_score = 0.97\n"
          ]
        }
      ]
    },
    {
      "cell_type": "code",
      "source": [
        "# iris classification (k-NN)\n",
        "from sklearn.neighbors import KNeighborsClassifier\n",
        "from sklearn.model_selection import train_test_split\n",
        "\n",
        "iris = load_iris()\n",
        "X_train, X_test, y_train, y_test = train_test_split(\n",
        "    iris.data, iris.target, stratify=iris.target, random_state=1) #target 비율에 맞추어 추출\n",
        "\n",
        "training_accuracy = []\n",
        "test_accuracy = []\n",
        "# 1 에서 10 까지 n_neighbors 를 적용\n",
        "neighbors_settings = range(1,8,2)\n",
        "\n",
        "for n_neighbors in neighbors_settings:\n",
        "    # 모델 생성\n",
        "    clf = KNeighborsClassifier(n_neighbors=n_neighbors)\n",
        "    clf.fit(X_train, y_train)\n",
        "    # 훈련 세트 정확도 저장\n",
        "    training_accuracy.append(clf.score(X_train, y_train))\n",
        "    # 테스트 세트 정확도 저장\n",
        "    s = clf.score(X_test, y_test)\n",
        "    print(\"k=\", n_neighbors, \"score= {:.2f}\".format(s))\n",
        "    test_accuracy.append(s)\n",
        "    \n",
        "plt.plot(neighbors_settings, training_accuracy, label=\"train accuracy\")\n",
        "plt.plot(neighbors_settings, test_accuracy, label=\"test accuracy\")\n",
        "plt.ylabel(\"accuracy\")\n",
        "plt.xlabel(\"n_neighbors\")\n",
        "plt.legend()\n",
        "plt.show()"
      ],
      "metadata": {
        "colab": {
          "base_uri": "https://localhost:8080/",
          "height": 353
        },
        "id": "nh2cvzb3cKiq",
        "outputId": "531c6d69-a70a-4fa4-d5a3-e4955170b935"
      },
      "execution_count": 10,
      "outputs": [
        {
          "output_type": "stream",
          "name": "stdout",
          "text": [
            "k= 1 score= 0.97\n",
            "k= 3 score= 0.97\n",
            "k= 5 score= 0.95\n",
            "k= 7 score= 0.95\n"
          ]
        },
        {
          "output_type": "display_data",
          "data": {
            "text/plain": [
              "<Figure size 432x288 with 1 Axes>"
            ],
            "image/png": "[encoded data removed]"
          },
          "metadata": {
            "needs_background": "light"
          }
        }
      ]
    }
  ]
}