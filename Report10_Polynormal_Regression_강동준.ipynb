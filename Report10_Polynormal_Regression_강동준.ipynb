{
  "nbformat": 4,
  "nbformat_minor": 0,
  "metadata": {
    "colab": {
      "provenance": [],
      "collapsed_sections": [],
      "authorship_tag": "ABX9TyPG+FQ+aMKzmyoXAuxz6tl7",
      "include_colab_link": true
    },
    "kernelspec": {
      "name": "python3",
      "display_name": "Python 3"
    },
    "language_info": {
      "name": "python"
    }
  },
  "cells": [
    {
      "cell_type": "markdown",
      "metadata": {
        "id": "view-in-github",
        "colab_type": "text"
      },
      "source": [
        "<a href=\"https://colab.research.google.com/github/river6907/Bigdata-Analysis/blob/main/Report10_Polynormal_Regression_%EA%B0%95%EB%8F%99%EC%A4%80.ipynb\" target=\"_parent\"><img src=\"https://colab.research.google.com/assets/colab-badge.svg\" alt=\"Open In Colab\"/></a>"
      ]
    },
    {
      "cell_type": "markdown",
      "source": [
        "# 실습 10. 한국의 소득수준에 대한 기대수명 예측 문제"
      ],
      "metadata": {
        "id": "yKM6iUZtjkvR"
      }
    },
    {
      "cell_type": "markdown",
      "source": [
        "# **1) e-나라지표에서 다음 데이터 수집**\n"
      ],
      "metadata": {
        "id": "1CQzgTedj8KP"
      }
    },
    {
      "cell_type": "markdown",
      "source": [
        "(1)1인당 국민총소득(GNI)\n",
        "\n",
        "  * 1 인당 GNI(gniPercap, gni per capita)\n",
        "  * 1인당 실질 국민총소득(만 원)\n",
        "  * https://www.index.go.kr/unify/idx-info.do?idxCd=4221\n",
        "  * 통계표-시계열조회- 1970~2020 엑셀저장\n",
        "\n",
        "(2)성별기대수명\n",
        "\n",
        "  * https://www.index.go.kr/unify/idx-info.do?idxCd=4234#quick_02\n",
        "  \n",
        "  * 통계표-시계열조회- 1970~2020 엑셀저장\n",
        "\n",
        "(3)엑셀파일을 아래 구조로 편집하여 csv파일로 저장\n",
        "  * ( GNI 셀서식 변경: 콤마(,) 없는 숫자)"
      ],
      "metadata": {
        "id": "OdpjZMNKntts"
      }
    },
    {
      "cell_type": "code",
      "execution_count": 1,
      "metadata": {
        "colab": {
          "base_uri": "https://localhost:8080/",
          "height": 77
        },
        "id": "_KK55J3Sjj7X",
        "outputId": "edd94376-9edf-4ef9-ed19-bde03c5a7c6b"
      },
      "outputs": [
        {
          "output_type": "display_data",
          "data": {
            "text/plain": [
              "<IPython.core.display.HTML object>"
            ],
            "text/html": [
              "\n",
              "     <input type=\"file\" id=\"files-89505c1e-c3e6-4a6b-8ca8-ba2c911942af\" name=\"files[]\" multiple disabled\n",
              "        style=\"border:none\" />\n",
              "     <output id=\"result-89505c1e-c3e6-4a6b-8ca8-ba2c911942af\">\n",
              "      Upload widget is only available when the cell has been executed in the\n",
              "      current browser session. Please rerun this cell to enable.\n",
              "      </output>\n",
              "      <script>// Copyright 2017 Google LLC\n",
              "//\n",
              "// Licensed under the Apache License, Version 2.0 (the \"License\");\n",
              "// you may not use this file except in compliance with the License.\n",
              "// You may obtain a copy of the License at\n",
              "//\n",
              "//      http://www.apache.org/licenses/LICENSE-2.0\n",
              "//\n",
              "// Unless required by applicable law or agreed to in writing, software\n",
              "// distributed under the License is distributed on an \"AS IS\" BASIS,\n",
              "// WITHOUT WARRANTIES OR CONDITIONS OF ANY KIND, either express or implied.\n",
              "// See the License for the specific language governing permissions and\n",
              "// limitations under the License.\n",
              "\n",
              "/**\n",
              " * @fileoverview Helpers for google.colab Python module.\n",
              " */\n",
              "(function(scope) {\n",
              "function span(text, styleAttributes = {}) {\n",
              "  const element = document.createElement('span');\n",
              "  element.textContent = text;\n",
              "  for (const key of Object.keys(styleAttributes)) {\n",
              "    element.style[key] = styleAttributes[key];\n",
              "  }\n",
              "  return element;\n",
              "}\n",
              "\n",
              "// Max number of bytes which will be uploaded at a time.\n",
              "const MAX_PAYLOAD_SIZE = 100 * 1024;\n",
              "\n",
              "function _uploadFiles(inputId, outputId) {\n",
              "  const steps = uploadFilesStep(inputId, outputId);\n",
              "  const outputElement = document.getElementById(outputId);\n",
              "  // Cache steps on the outputElement to make it available for the next call\n",
              "  // to uploadFilesContinue from Python.\n",
              "  outputElement.steps = steps;\n",
              "\n",
              "  return _uploadFilesContinue(outputId);\n",
              "}\n",
              "\n",
              "// This is roughly an async generator (not supported in the browser yet),\n",
              "// where there are multiple asynchronous steps and the Python side is going\n",
              "// to poll for completion of each step.\n",
              "// This uses a Promise to block the python side on completion of each step,\n",
              "// then passes the result of the previous step as the input to the next step.\n",
              "function _uploadFilesContinue(outputId) {\n",
              "  const outputElement = document.getElementById(outputId);\n",
              "  const steps = outputElement.steps;\n",
              "\n",
              "  const next = steps.next(outputElement.lastPromiseValue);\n",
              "  return Promise.resolve(next.value.promise).then((value) => {\n",
              "    // Cache the last promise value to make it available to the next\n",
              "    // step of the generator.\n",
              "    outputElement.lastPromiseValue = value;\n",
              "    return next.value.response;\n",
              "  });\n",
              "}\n",
              "\n",
              "/**\n",
              " * Generator function which is called between each async step of the upload\n",
              " * process.\n",
              " * @param {string} inputId Element ID of the input file picker element.\n",
              " * @param {string} outputId Element ID of the output display.\n",
              " * @return {!Iterable<!Object>} Iterable of next steps.\n",
              " */\n",
              "function* uploadFilesStep(inputId, outputId) {\n",
              "  const inputElement = document.getElementById(inputId);\n",
              "  inputElement.disabled = false;\n",
              "\n",
              "  const outputElement = document.getElementById(outputId);\n",
              "  outputElement.innerHTML = '';\n",
              "\n",
              "  const pickedPromise = new Promise((resolve) => {\n",
              "    inputElement.addEventListener('change', (e) => {\n",
              "      resolve(e.target.files);\n",
              "    });\n",
              "  });\n",
              "\n",
              "  const cancel = document.createElement('button');\n",
              "  inputElement.parentElement.appendChild(cancel);\n",
              "  cancel.textContent = 'Cancel upload';\n",
              "  const cancelPromise = new Promise((resolve) => {\n",
              "    cancel.onclick = () => {\n",
              "      resolve(null);\n",
              "    };\n",
              "  });\n",
              "\n",
              "  // Wait for the user to pick the files.\n",
              "  const files = yield {\n",
              "    promise: Promise.race([pickedPromise, cancelPromise]),\n",
              "    response: {\n",
              "      action: 'starting',\n",
              "    }\n",
              "  };\n",
              "\n",
              "  cancel.remove();\n",
              "\n",
              "  // Disable the input element since further picks are not allowed.\n",
              "  inputElement.disabled = true;\n",
              "\n",
              "  if (!files) {\n",
              "    return {\n",
              "      response: {\n",
              "        action: 'complete',\n",
              "      }\n",
              "    };\n",
              "  }\n",
              "\n",
              "  for (const file of files) {\n",
              "    const li = document.createElement('li');\n",
              "    li.append(span(file.name, {fontWeight: 'bold'}));\n",
              "    li.append(span(\n",
              "        `(${file.type || 'n/a'}) - ${file.size} bytes, ` +\n",
              "        `last modified: ${\n",
              "            file.lastModifiedDate ? file.lastModifiedDate.toLocaleDateString() :\n",
              "                                    'n/a'} - `));\n",
              "    const percent = span('0% done');\n",
              "    li.appendChild(percent);\n",
              "\n",
              "    outputElement.appendChild(li);\n",
              "\n",
              "    const fileDataPromise = new Promise((resolve) => {\n",
              "      const reader = new FileReader();\n",
              "      reader.onload = (e) => {\n",
              "        resolve(e.target.result);\n",
              "      };\n",
              "      reader.readAsArrayBuffer(file);\n",
              "    });\n",
              "    // Wait for the data to be ready.\n",
              "    let fileData = yield {\n",
              "      promise: fileDataPromise,\n",
              "      response: {\n",
              "        action: 'continue',\n",
              "      }\n",
              "    };\n",
              "\n",
              "    // Use a chunked sending to avoid message size limits. See b/62115660.\n",
              "    let position = 0;\n",
              "    do {\n",
              "      const length = Math.min(fileData.byteLength - position, MAX_PAYLOAD_SIZE);\n",
              "      const chunk = new Uint8Array(fileData, position, length);\n",
              "      position += length;\n",
              "\n",
              "      const base64 = btoa(String.fromCharCode.apply(null, chunk));\n",
              "      yield {\n",
              "        response: {\n",
              "          action: 'append',\n",
              "          file: file.name,\n",
              "          data: base64,\n",
              "        },\n",
              "      };\n",
              "\n",
              "      let percentDone = fileData.byteLength === 0 ?\n",
              "          100 :\n",
              "          Math.round((position / fileData.byteLength) * 100);\n",
              "      percent.textContent = `${percentDone}% done`;\n",
              "\n",
              "    } while (position < fileData.byteLength);\n",
              "  }\n",
              "\n",
              "  // All done.\n",
              "  yield {\n",
              "    response: {\n",
              "      action: 'complete',\n",
              "    }\n",
              "  };\n",
              "}\n",
              "\n",
              "scope.google = scope.google || {};\n",
              "scope.google.colab = scope.google.colab || {};\n",
              "scope.google.colab._files = {\n",
              "  _uploadFiles,\n",
              "  _uploadFilesContinue,\n",
              "};\n",
              "})(self);\n",
              "</script> "
            ]
          },
          "metadata": {}
        },
        {
          "output_type": "stream",
          "name": "stdout",
          "text": [
            "Saving GNILifeExp1970_2020.csv to GNILifeExp1970_2020.csv\n"
          ]
        }
      ],
      "source": [
        "from google.colab import files\n",
        "myfile = files.upload()"
      ]
    },
    {
      "cell_type": "code",
      "source": [
        "import io\n",
        "import pandas as pd\n",
        "GNILifeExp = pd.read_csv(io.BytesIO(myfile['GNILifeExp1970_2020.csv']))"
      ],
      "metadata": {
        "id": "weof0FEOoZOf"
      },
      "execution_count": 3,
      "outputs": []
    },
    {
      "cell_type": "markdown",
      "source": [
        "**2) 데이터 탐색**\n"
      ],
      "metadata": {
        "id": "Tdz_1nDdpTxb"
      }
    },
    {
      "cell_type": "markdown",
      "source": [
        "(1) data Load, 0번째 칼럼을 인덱스로 지정"
      ],
      "metadata": {
        "id": "KSaDVW2qpXej"
      }
    },
    {
      "cell_type": "code",
      "source": [
        "GNI = GNILifeExp.set_index('year')"
      ],
      "metadata": {
        "id": "TYS3tBaApLht"
      },
      "execution_count": 5,
      "outputs": []
    },
    {
      "cell_type": "code",
      "source": [
        "GNI.head()"
      ],
      "metadata": {
        "colab": {
          "base_uri": "https://localhost:8080/",
          "height": 238
        },
        "id": "4tBeRUN9p00O",
        "outputId": "d788fb65-8ad8-4b26-bddc-e219bc2b5290"
      },
      "execution_count": 6,
      "outputs": [
        {
          "output_type": "execute_result",
          "data": {
            "text/plain": [
              "      GNI  lifeExp_male  lifeExp_female\n",
              "year                                   \n",
              "1970  256          58.7            65.8\n",
              "1971  273          59.1            66.3\n",
              "1972  285          59.4            66.8\n",
              "1973  321          59.7            67.3\n",
              "1974  336          60.0            67.8"
            ],
            "text/html": [
              "\n",
              "  <div id=\"df-586f39e3-a6ee-450d-a570-5c404cc72b6d\">\n",
              "    <div class=\"colab-df-container\">\n",
              "      <div>\n",
              "<style scoped>\n",
              "    .dataframe tbody tr th:only-of-type {\n",
              "        vertical-align: middle;\n",
              "    }\n",
              "\n",
              "    .dataframe tbody tr th {\n",
              "        vertical-align: top;\n",
              "    }\n",
              "\n",
              "    .dataframe thead th {\n",
              "        text-align: right;\n",
              "    }\n",
              "</style>\n",
              "<table border=\"1\" class=\"dataframe\">\n",
              "  <thead>\n",
              "    <tr style=\"text-align: right;\">\n",
              "      <th></th>\n",
              "      <th>GNI</th>\n",
              "      <th>lifeExp_male</th>\n",
              "      <th>lifeExp_female</th>\n",
              "    </tr>\n",
              "    <tr>\n",
              "      <th>year</th>\n",
              "      <th></th>\n",
              "      <th></th>\n",
              "      <th></th>\n",
              "    </tr>\n",
              "  </thead>\n",
              "  <tbody>\n",
              "    <tr>\n",
              "      <th>1970</th>\n",
              "      <td>256</td>\n",
              "      <td>58.7</td>\n",
              "      <td>65.8</td>\n",
              "    </tr>\n",
              "    <tr>\n",
              "      <th>1971</th>\n",
              "      <td>273</td>\n",
              "      <td>59.1</td>\n",
              "      <td>66.3</td>\n",
              "    </tr>\n",
              "    <tr>\n",
              "      <th>1972</th>\n",
              "      <td>285</td>\n",
              "      <td>59.4</td>\n",
              "      <td>66.8</td>\n",
              "    </tr>\n",
              "    <tr>\n",
              "      <th>1973</th>\n",
              "      <td>321</td>\n",
              "      <td>59.7</td>\n",
              "      <td>67.3</td>\n",
              "    </tr>\n",
              "    <tr>\n",
              "      <th>1974</th>\n",
              "      <td>336</td>\n",
              "      <td>60.0</td>\n",
              "      <td>67.8</td>\n",
              "    </tr>\n",
              "  </tbody>\n",
              "</table>\n",
              "</div>\n",
              "      <button class=\"colab-df-convert\" onclick=\"convertToInteractive('df-586f39e3-a6ee-450d-a570-5c404cc72b6d')\"\n",
              "              title=\"Convert this dataframe to an interactive table.\"\n",
              "              style=\"display:none;\">\n",
              "        \n",
              "  <svg xmlns=\"http://www.w3.org/2000/svg\" height=\"24px\"viewBox=\"0 0 24 24\"\n",
              "       width=\"24px\">\n",
              "    <path d=\"M0 0h24v24H0V0z\" fill=\"none\"/>\n",
              "    <path d=\"M18.56 5.44l.94 2.06.94-2.06 2.06-.94-2.06-.94-.94-2.06-.94 2.06-2.06.94zm-11 1L8.5 8.5l.94-2.06 2.06-.94-2.06-.94L8.5 2.5l-.94 2.06-2.06.94zm10 10l.94 2.06.94-2.06 2.06-.94-2.06-.94-.94-2.06-.94 2.06-2.06.94z\"/><path d=\"M17.41 7.96l-1.37-1.37c-.4-.4-.92-.59-1.43-.59-.52 0-1.04.2-1.43.59L10.3 9.45l-7.72 7.72c-.78.78-.78 2.05 0 2.83L4 21.41c.39.39.9.59 1.41.59.51 0 1.02-.2 1.41-.59l7.78-7.78 2.81-2.81c.8-.78.8-2.07 0-2.86zM5.41 20L4 18.59l7.72-7.72 1.47 1.35L5.41 20z\"/>\n",
              "  </svg>\n",
              "      </button>\n",
              "      \n",
              "  <style>\n",
              "    .colab-df-container {\n",
              "      display:flex;\n",
              "      flex-wrap:wrap;\n",
              "      gap: 12px;\n",
              "    }\n",
              "\n",
              "    .colab-df-convert {\n",
              "      background-color: #E8F0FE;\n",
              "      border: none;\n",
              "      border-radius: 50%;\n",
              "      cursor: pointer;\n",
              "      display: none;\n",
              "      fill: #1967D2;\n",
              "      height: 32px;\n",
              "      padding: 0 0 0 0;\n",
              "      width: 32px;\n",
              "    }\n",
              "\n",
              "    .colab-df-convert:hover {\n",
              "      background-color: #E2EBFA;\n",
              "      box-shadow: 0px 1px 2px rgba(60, 64, 67, 0.3), 0px 1px 3px 1px rgba(60, 64, 67, 0.15);\n",
              "      fill: #174EA6;\n",
              "    }\n",
              "\n",
              "    [theme=dark] .colab-df-convert {\n",
              "      background-color: #3B4455;\n",
              "      fill: #D2E3FC;\n",
              "    }\n",
              "\n",
              "    [theme=dark] .colab-df-convert:hover {\n",
              "      background-color: #434B5C;\n",
              "      box-shadow: 0px 1px 3px 1px rgba(0, 0, 0, 0.15);\n",
              "      filter: drop-shadow(0px 1px 2px rgba(0, 0, 0, 0.3));\n",
              "      fill: #FFFFFF;\n",
              "    }\n",
              "  </style>\n",
              "\n",
              "      <script>\n",
              "        const buttonEl =\n",
              "          document.querySelector('#df-586f39e3-a6ee-450d-a570-5c404cc72b6d button.colab-df-convert');\n",
              "        buttonEl.style.display =\n",
              "          google.colab.kernel.accessAllowed ? 'block' : 'none';\n",
              "\n",
              "        async function convertToInteractive(key) {\n",
              "          const element = document.querySelector('#df-586f39e3-a6ee-450d-a570-5c404cc72b6d');\n",
              "          const dataTable =\n",
              "            await google.colab.kernel.invokeFunction('convertToInteractive',\n",
              "                                                     [key], {});\n",
              "          if (!dataTable) return;\n",
              "\n",
              "          const docLinkHtml = 'Like what you see? Visit the ' +\n",
              "            '<a target=\"_blank\" href=https://colab.research.google.com/notebooks/data_table.ipynb>data table notebook</a>'\n",
              "            + ' to learn more about interactive tables.';\n",
              "          element.innerHTML = '';\n",
              "          dataTable['output_type'] = 'display_data';\n",
              "          await google.colab.output.renderOutput(dataTable, element);\n",
              "          const docLink = document.createElement('div');\n",
              "          docLink.innerHTML = docLinkHtml;\n",
              "          element.appendChild(docLink);\n",
              "        }\n",
              "      </script>\n",
              "    </div>\n",
              "  </div>\n",
              "  "
            ]
          },
          "metadata": {},
          "execution_count": 6
        }
      ]
    },
    {
      "cell_type": "markdown",
      "source": [
        "(2) 데이터 타입, 구조, 누락 값 동시에 확인\n"
      ],
      "metadata": {
        "id": "tYw3AplzpVYC"
      }
    },
    {
      "cell_type": "code",
      "source": [
        "print(\"GNI.index = \\n\", GNI.index)     \n",
        "print(\"\\nGNI.columns = \\n\", GNI.columns) \n",
        "print(\"\\nGNI.count = \", GNI.shape[0])\n",
        "print(\"GNI.count = \", GNI.shape[1])\n",
        "\n",
        "import pandas as pd\n",
        "print(\"GNI.isnull.count =\\n\", GNI.isnull().sum())"
      ],
      "metadata": {
        "colab": {
          "base_uri": "https://localhost:8080/"
        },
        "id": "w48vIwwCpkxB",
        "outputId": "b281a75c-d78d-4475-e510-ee4620961f67"
      },
      "execution_count": 15,
      "outputs": [
        {
          "output_type": "stream",
          "name": "stdout",
          "text": [
            "GNI.index = \n",
            " Int64Index([1970, 1971, 1972, 1973, 1974, 1975, 1976, 1977, 1978, 1979, 1980,\n",
            "            1981, 1982, 1983, 1984, 1985, 1986, 1987, 1988, 1989, 1990, 1991,\n",
            "            1992, 1993, 1994, 1995, 1996, 1997, 1998, 1999, 2000, 2001, 2002,\n",
            "            2003, 2004, 2005, 2006, 2007, 2008, 2009, 2010, 2011, 2012, 2013,\n",
            "            2014, 2015, 2016, 2017, 2018, 2019, 2020],\n",
            "           dtype='int64', name='year')\n",
            "\n",
            "GNI.columns = \n",
            " Index(['GNI', 'lifeExp_male', 'lifeExp_female'], dtype='object')\n",
            "\n",
            "GNI.count =  51\n",
            "GNI.count =  3\n",
            "GNI.isnull.count =\n",
            " GNI               0\n",
            "lifeExp_male      0\n",
            "lifeExp_female    0\n",
            "dtype: int64\n"
          ]
        }
      ]
    },
    {
      "cell_type": "markdown",
      "source": [
        "(3)데이터 내용 일부 확인\n"
      ],
      "metadata": {
        "id": "DY6pkwSdpc_s"
      }
    },
    {
      "cell_type": "code",
      "source": [
        "print(GNI.head(5))\n",
        "print(GNI.tail(5))"
      ],
      "metadata": {
        "colab": {
          "base_uri": "https://localhost:8080/"
        },
        "id": "vICFWRm5q2iv",
        "outputId": "d1f76568-83ed-44d6-c188-0dd46bd19117"
      },
      "execution_count": 16,
      "outputs": [
        {
          "output_type": "stream",
          "name": "stdout",
          "text": [
            "      GNI  lifeExp_male  lifeExp_female\n",
            "year                                   \n",
            "1970  256          58.7            65.8\n",
            "1971  273          59.1            66.3\n",
            "1972  285          59.4            66.8\n",
            "1973  321          59.7            67.3\n",
            "1974  336          60.0            67.8\n",
            "       GNI  lifeExp_male  lifeExp_female\n",
            "year                                    \n",
            "2016  3391          79.3            85.4\n",
            "2017  3493          79.7            85.7\n",
            "2018  3532          79.7            85.7\n",
            "2019  3532          80.3            86.3\n",
            "2020  3530          80.5            86.5\n"
          ]
        }
      ]
    },
    {
      "cell_type": "markdown",
      "source": [
        "(4)요약통계"
      ],
      "metadata": {
        "id": "EiAIesLepd--"
      }
    },
    {
      "cell_type": "code",
      "source": [
        "print(GNI.describe())"
      ],
      "metadata": {
        "colab": {
          "base_uri": "https://localhost:8080/"
        },
        "id": "73CAwX-qq9eY",
        "outputId": "525cc21c-3aba-4fe3-a083-efc378ce430a"
      },
      "execution_count": 17,
      "outputs": [
        {
          "output_type": "stream",
          "name": "stdout",
          "text": [
            "               GNI  lifeExp_male  lifeExp_female\n",
            "count    51.000000     51.000000       51.000000\n",
            "mean   1679.666667     69.674510       77.178431\n",
            "std    1085.520201      6.984579        6.319788\n",
            "min     256.000000     58.700000       65.800000\n",
            "25%     580.000000     63.150000       71.700000\n",
            "50%    1699.000000     69.700000       77.900000\n",
            "75%    2587.000000     76.050000       82.750000\n",
            "max    3532.000000     80.500000       86.500000\n"
          ]
        }
      ]
    },
    {
      "cell_type": "markdown",
      "source": [
        "(5)년도별 GNI 대한 그래프\n"
      ],
      "metadata": {
        "id": "JGBqmJy1pfXD"
      }
    },
    {
      "cell_type": "code",
      "source": [
        "import numpy as np\n",
        "import matplotlib.pyplot as plt\n",
        "\n",
        "GNI['GNI'].plot()\n",
        "plt.title(\"gni per capita\")\n",
        "plt.xlabel(\"year\")\n",
        "plt.ylabel(\"GNI\")\n",
        "plt.show()"
      ],
      "metadata": {
        "colab": {
          "base_uri": "https://localhost:8080/",
          "height": 295
        },
        "id": "Fe4W9GOIrWvL",
        "outputId": "bab6137b-9134-4963-e464-b37ca422b5d3"
      },
      "execution_count": 21,
      "outputs": [
        {
          "output_type": "display_data",
          "data": {
            "text/plain": [
              "<Figure size 432x288 with 1 Axes>"
            ],
            "image/png": "[encoded data removed]"
          },
          "metadata": {
            "needs_background": "light"
          }
        }
      ]
    },
    {
      "cell_type": "markdown",
      "source": [
        "(6)전체 기대수명 칼럼추가 , 남,녀 기대수명을 평균으로 계산\n"
      ],
      "metadata": {
        "id": "oL1hVpXbphpQ"
      }
    },
    {
      "cell_type": "code",
      "source": [
        "GNI['lifeExp'] = ( GNI['lifeExp_female'] + GNI['lifeExp_male'] ) / 2"
      ],
      "metadata": {
        "id": "0mBUCQbSsco6"
      },
      "execution_count": 22,
      "outputs": []
    },
    {
      "cell_type": "code",
      "source": [
        "GNI.head()"
      ],
      "metadata": {
        "colab": {
          "base_uri": "https://localhost:8080/",
          "height": 238
        },
        "id": "FLkFaCA9s7x1",
        "outputId": "cb112750-76bc-43c7-be22-2368feaee9d7"
      },
      "execution_count": 23,
      "outputs": [
        {
          "output_type": "execute_result",
          "data": {
            "text/plain": [
              "      GNI  lifeExp_male  lifeExp_female  lifeExp\n",
              "year                                            \n",
              "1970  256          58.7            65.8    62.25\n",
              "1971  273          59.1            66.3    62.70\n",
              "1972  285          59.4            66.8    63.10\n",
              "1973  321          59.7            67.3    63.50\n",
              "1974  336          60.0            67.8    63.90"
            ],
            "text/html": [
              "\n",
              "  <div id=\"df-469f4c9e-5a5e-4503-8085-e60017f92938\">\n",
              "    <div class=\"colab-df-container\">\n",
              "      <div>\n",
              "<style scoped>\n",
              "    .dataframe tbody tr th:only-of-type {\n",
              "        vertical-align: middle;\n",
              "    }\n",
              "\n",
              "    .dataframe tbody tr th {\n",
              "        vertical-align: top;\n",
              "    }\n",
              "\n",
              "    .dataframe thead th {\n",
              "        text-align: right;\n",
              "    }\n",
              "</style>\n",
              "<table border=\"1\" class=\"dataframe\">\n",
              "  <thead>\n",
              "    <tr style=\"text-align: right;\">\n",
              "      <th></th>\n",
              "      <th>GNI</th>\n",
              "      <th>lifeExp_male</th>\n",
              "      <th>lifeExp_female</th>\n",
              "      <th>lifeExp</th>\n",
              "    </tr>\n",
              "    <tr>\n",
              "      <th>year</th>\n",
              "      <th></th>\n",
              "      <th></th>\n",
              "      <th></th>\n",
              "      <th></th>\n",
              "    </tr>\n",
              "  </thead>\n",
              "  <tbody>\n",
              "    <tr>\n",
              "      <th>1970</th>\n",
              "      <td>256</td>\n",
              "      <td>58.7</td>\n",
              "      <td>65.8</td>\n",
              "      <td>62.25</td>\n",
              "    </tr>\n",
              "    <tr>\n",
              "      <th>1971</th>\n",
              "      <td>273</td>\n",
              "      <td>59.1</td>\n",
              "      <td>66.3</td>\n",
              "      <td>62.70</td>\n",
              "    </tr>\n",
              "    <tr>\n",
              "      <th>1972</th>\n",
              "      <td>285</td>\n",
              "      <td>59.4</td>\n",
              "      <td>66.8</td>\n",
              "      <td>63.10</td>\n",
              "    </tr>\n",
              "    <tr>\n",
              "      <th>1973</th>\n",
              "      <td>321</td>\n",
              "      <td>59.7</td>\n",
              "      <td>67.3</td>\n",
              "      <td>63.50</td>\n",
              "    </tr>\n",
              "    <tr>\n",
              "      <th>1974</th>\n",
              "      <td>336</td>\n",
              "      <td>60.0</td>\n",
              "      <td>67.8</td>\n",
              "      <td>63.90</td>\n",
              "    </tr>\n",
              "  </tbody>\n",
              "</table>\n",
              "</div>\n",
              "      <button class=\"colab-df-convert\" onclick=\"convertToInteractive('df-469f4c9e-5a5e-4503-8085-e60017f92938')\"\n",
              "              title=\"Convert this dataframe to an interactive table.\"\n",
              "              style=\"display:none;\">\n",
              "        \n",
              "  <svg xmlns=\"http://www.w3.org/2000/svg\" height=\"24px\"viewBox=\"0 0 24 24\"\n",
              "       width=\"24px\">\n",
              "    <path d=\"M0 0h24v24H0V0z\" fill=\"none\"/>\n",
              "    <path d=\"M18.56 5.44l.94 2.06.94-2.06 2.06-.94-2.06-.94-.94-2.06-.94 2.06-2.06.94zm-11 1L8.5 8.5l.94-2.06 2.06-.94-2.06-.94L8.5 2.5l-.94 2.06-2.06.94zm10 10l.94 2.06.94-2.06 2.06-.94-2.06-.94-.94-2.06-.94 2.06-2.06.94z\"/><path d=\"M17.41 7.96l-1.37-1.37c-.4-.4-.92-.59-1.43-.59-.52 0-1.04.2-1.43.59L10.3 9.45l-7.72 7.72c-.78.78-.78 2.05 0 2.83L4 21.41c.39.39.9.59 1.41.59.51 0 1.02-.2 1.41-.59l7.78-7.78 2.81-2.81c.8-.78.8-2.07 0-2.86zM5.41 20L4 18.59l7.72-7.72 1.47 1.35L5.41 20z\"/>\n",
              "  </svg>\n",
              "      </button>\n",
              "      \n",
              "  <style>\n",
              "    .colab-df-container {\n",
              "      display:flex;\n",
              "      flex-wrap:wrap;\n",
              "      gap: 12px;\n",
              "    }\n",
              "\n",
              "    .colab-df-convert {\n",
              "      background-color: #E8F0FE;\n",
              "      border: none;\n",
              "      border-radius: 50%;\n",
              "      cursor: pointer;\n",
              "      display: none;\n",
              "      fill: #1967D2;\n",
              "      height: 32px;\n",
              "      padding: 0 0 0 0;\n",
              "      width: 32px;\n",
              "    }\n",
              "\n",
              "    .colab-df-convert:hover {\n",
              "      background-color: #E2EBFA;\n",
              "      box-shadow: 0px 1px 2px rgba(60, 64, 67, 0.3), 0px 1px 3px 1px rgba(60, 64, 67, 0.15);\n",
              "      fill: #174EA6;\n",
              "    }\n",
              "\n",
              "    [theme=dark] .colab-df-convert {\n",
              "      background-color: #3B4455;\n",
              "      fill: #D2E3FC;\n",
              "    }\n",
              "\n",
              "    [theme=dark] .colab-df-convert:hover {\n",
              "      background-color: #434B5C;\n",
              "      box-shadow: 0px 1px 3px 1px rgba(0, 0, 0, 0.15);\n",
              "      filter: drop-shadow(0px 1px 2px rgba(0, 0, 0, 0.3));\n",
              "      fill: #FFFFFF;\n",
              "    }\n",
              "  </style>\n",
              "\n",
              "      <script>\n",
              "        const buttonEl =\n",
              "          document.querySelector('#df-469f4c9e-5a5e-4503-8085-e60017f92938 button.colab-df-convert');\n",
              "        buttonEl.style.display =\n",
              "          google.colab.kernel.accessAllowed ? 'block' : 'none';\n",
              "\n",
              "        async function convertToInteractive(key) {\n",
              "          const element = document.querySelector('#df-469f4c9e-5a5e-4503-8085-e60017f92938');\n",
              "          const dataTable =\n",
              "            await google.colab.kernel.invokeFunction('convertToInteractive',\n",
              "                                                     [key], {});\n",
              "          if (!dataTable) return;\n",
              "\n",
              "          const docLinkHtml = 'Like what you see? Visit the ' +\n",
              "            '<a target=\"_blank\" href=https://colab.research.google.com/notebooks/data_table.ipynb>data table notebook</a>'\n",
              "            + ' to learn more about interactive tables.';\n",
              "          element.innerHTML = '';\n",
              "          dataTable['output_type'] = 'display_data';\n",
              "          await google.colab.output.renderOutput(dataTable, element);\n",
              "          const docLink = document.createElement('div');\n",
              "          docLink.innerHTML = docLinkHtml;\n",
              "          element.appendChild(docLink);\n",
              "        }\n",
              "      </script>\n",
              "    </div>\n",
              "  </div>\n",
              "  "
            ]
          },
          "metadata": {},
          "execution_count": 23
        }
      ]
    },
    {
      "cell_type": "markdown",
      "source": [
        "(7) 남,여,전체 기대수명 plotting"
      ],
      "metadata": {
        "id": "kFa9wg_npkFB"
      }
    },
    {
      "cell_type": "code",
      "source": [
        "GNI.plot(y=['lifeExp_male', 'lifeExp_female','lifeExp'])\n",
        "plt.show()"
      ],
      "metadata": {
        "colab": {
          "base_uri": "https://localhost:8080/",
          "height": 279
        },
        "id": "bBIXXVvDslLD",
        "outputId": "a0eb5b10-16c7-4533-8dda-8bdbd24aa194"
      },
      "execution_count": 25,
      "outputs": [
        {
          "output_type": "display_data",
          "data": {
            "text/plain": [
              "<Figure size 432x288 with 1 Axes>"
            ],
            "image/png": "[encoded data removed]"
          },
          "metadata": {
            "needs_background": "light"
          }
        }
      ]
    },
    {
      "cell_type": "markdown",
      "source": [
        "**2) 데이터 탐색**"
      ],
      "metadata": {
        "id": "ZBwxmVLJt8fj"
      }
    },
    {
      "cell_type": "markdown",
      "source": [
        "(8) GNI(gniPercap)에 대한 평균기대수명(lifeExp) 관계 확인 (scatter plot)\n"
      ],
      "metadata": {
        "id": "oIry9mNMt-sW"
      }
    },
    {
      "cell_type": "code",
      "source": [
        "GNI.plot.scatter(x=\"GNI\", y=\"lifeExp\")\n",
        "plt.title(\"Scatter Plt(korea\")\n",
        "plt.show()"
      ],
      "metadata": {
        "colab": {
          "base_uri": "https://localhost:8080/",
          "height": 295
        },
        "id": "pzeuonTEuENs",
        "outputId": "57b44816-bdd2-4c03-a900-819d69d56928"
      },
      "execution_count": 27,
      "outputs": [
        {
          "output_type": "display_data",
          "data": {
            "text/plain": [
              "<Figure size 432x288 with 1 Axes>"
            ],
            "image/png": "[encoded data removed]"
          },
          "metadata": {
            "needs_background": "light"
          }
        }
      ]
    },
    {
      "cell_type": "markdown",
      "source": [
        "(9) 전체 데이터의 평균기대수명(lifeExp)과 GNI(gniPercap)의 상관계수 확인"
      ],
      "metadata": {
        "id": "LPFd_i14uBqH"
      }
    },
    {
      "cell_type": "code",
      "source": [
        "tmp = GNI[['lifeExp','GNI']].corr()\n",
        "print(\"korea.corr =  \\n\",tmp)"
      ],
      "metadata": {
        "colab": {
          "base_uri": "https://localhost:8080/"
        },
        "id": "XX0pjUcFuY1S",
        "outputId": "1d5e57c3-e1a2-40ed-ebbb-80415d7cd923"
      },
      "execution_count": 33,
      "outputs": [
        {
          "output_type": "stream",
          "name": "stdout",
          "text": [
            "korea.corr =  \n",
            "          lifeExp     GNI\n",
            "lifeExp   1.0000  0.9863\n",
            "GNI       0.9863  1.0000\n"
          ]
        }
      ]
    },
    {
      "cell_type": "markdown",
      "source": [
        "**3)모델링**\n"
      ],
      "metadata": {
        "id": "GfVWp_YmvgAs"
      }
    },
    {
      "cell_type": "markdown",
      "source": [
        "(11) GNI(gniPercap)에 대한 평균기대수명(lifeExp) 선형모델 생성 및 확인"
      ],
      "metadata": {
        "id": "TlZXNGEQvh1V"
      }
    },
    {
      "cell_type": "code",
      "source": [
        "from sklearn import linear_model\n",
        "import pandas as pd\n",
        "import matplotlib\n",
        "import matplotlib.pyplot as plt\n",
        "%matplotlib inline\n",
        "matplotlib.style.use('ggplot')"
      ],
      "metadata": {
        "id": "BFoXXRk_xQVR"
      },
      "execution_count": 34,
      "outputs": []
    },
    {
      "cell_type": "code",
      "source": [
        "from sklearn.linear_model import LinearRegression\n",
        "X = GNI[\"GNI\"].values.reshape(-1, 1)\n",
        "Y = GNI[\"lifeExp\"]\n",
        "\n",
        "lr = LinearRegression().fit(X, Y)\n",
        "\n",
        "w = lr.coef_       #계수\n",
        "b = lr.intercept_  #절편\n",
        "print(\"w (lr.coef_):\", w)\n",
        "print(\"b (lr.intercept_):\",b)\n",
        "\n",
        "new_X = np.linspace(0,4000,3).reshape(-1,1)\n",
        "Y1 = lr.predict(new_X)\n",
        "print('new X =',new_X)\n",
        "print('Y1= ',Y1)\n",
        "\n",
        "plt.scatter(GNI['GNI'],GNI['lifeExp'])\n",
        "plt.title(\"train data & linear model\")\n",
        "plt.plot(new_X,Y1,'blue')\n",
        "plt.show()"
      ],
      "metadata": {
        "colab": {
          "base_uri": "https://localhost:8080/",
          "height": 392
        },
        "id": "tOwsejCLvmkF",
        "outputId": "b0166ab1-572f-401a-f874-b8dc5defc31c"
      },
      "execution_count": 50,
      "outputs": [
        {
          "output_type": "stream",
          "name": "stdout",
          "text": [
            "w (lr.coef_): [0.00603827]\n",
            "b (lr.intercept_): 63.28419010362986\n",
            "new X = [[   0.]\n",
            " [2000.]\n",
            " [4000.]]\n",
            "Y1=  [63.2841901  75.36072968 87.43726925]\n"
          ]
        },
        {
          "output_type": "display_data",
          "data": {
            "text/plain": [
              "<Figure size 432x288 with 1 Axes>"
            ],
            "image/png": "[encoded data removed]"
          },
          "metadata": {}
        }
      ]
    },
    {
      "cell_type": "markdown",
      "source": [
        "(12) GNI(gniPercap)에 대한 평균기대수명(lifeExp) 비선형모델 생성 및 확인\n"
      ],
      "metadata": {
        "id": "SaZsb0HPvj2_"
      }
    },
    {
      "cell_type": "code",
      "source": [
        "from sklearn.preprocessing import PolynomialFeatures\n",
        "poly_features = PolynomialFeatures(degree=2, include_bias=False)\n",
        "X_ploy = poly_features.fit_transform(X)\n",
        "\n",
        "lr_2 = LinearRegression()\n",
        "lr_2.fit(X_ploy,Y)\n",
        "\n",
        "w_2 = lr_2.coef_\n",
        "b_2 = lr_2.intercept_\n",
        "print(\"w (lr.coef_):\", w_2)\n",
        "print(\"b (lr.intercept_):\",b_2)\n",
        "\n",
        "new_X_2 = np.linspace(0,4000,100).reshape(-1,1)\n",
        "new_X_2_poly = poly_features.transform(new_X_2)\n",
        "new_y_2 = lr_2.predict(new_X_2_poly)\n",
        "print('new X =',new_X_2_poly)\n",
        "print('Y1= ',new_y_2)\n",
        "\n",
        "plt.scatter(X,Y)\n",
        "plt.title(\"train data & polynormal model\")\n",
        "plt.plot(new_X_2, new_y_2, 'blue')\n",
        "plt.show()"
      ],
      "metadata": {
        "colab": {
          "base_uri": "https://localhost:8080/",
          "height": 1000
        },
        "id": "AoZGgqPCxEed",
        "outputId": "ce4a06af-9729-4fd2-d0c0-2d5bf4c49dcd"
      },
      "execution_count": 54,
      "outputs": [
        {
          "output_type": "stream",
          "name": "stdout",
          "text": [
            "w (lr.coef_): [ 9.45212933e-03 -9.44589694e-07]\n",
            "b (lr.intercept_): 61.30623256516013\n",
            "new X = [[0.00000000e+00 0.00000000e+00]\n",
            " [4.04040404e+01 1.63248648e+03]\n",
            " [8.08080808e+01 6.52994592e+03]\n",
            " [1.21212121e+02 1.46923783e+04]\n",
            " [1.61616162e+02 2.61197837e+04]\n",
            " [2.02020202e+02 4.08121620e+04]\n",
            " [2.42424242e+02 5.87695133e+04]\n",
            " [2.82828283e+02 7.99918376e+04]\n",
            " [3.23232323e+02 1.04479135e+05]\n",
            " [3.63636364e+02 1.32231405e+05]\n",
            " [4.04040404e+02 1.63248648e+05]\n",
            " [4.44444444e+02 1.97530864e+05]\n",
            " [4.84848485e+02 2.35078053e+05]\n",
            " [5.25252525e+02 2.75890215e+05]\n",
            " [5.65656566e+02 3.19967350e+05]\n",
            " [6.06060606e+02 3.67309458e+05]\n",
            " [6.46464646e+02 4.17916539e+05]\n",
            " [6.86868687e+02 4.71788593e+05]\n",
            " [7.27272727e+02 5.28925620e+05]\n",
            " [7.67676768e+02 5.89327620e+05]\n",
            " [8.08080808e+02 6.52994592e+05]\n",
            " [8.48484848e+02 7.19926538e+05]\n",
            " [8.88888889e+02 7.90123457e+05]\n",
            " [9.29292929e+02 8.63585348e+05]\n",
            " [9.69696970e+02 9.40312213e+05]\n",
            " [1.01010101e+03 1.02030405e+06]\n",
            " [1.05050505e+03 1.10356086e+06]\n",
            " [1.09090909e+03 1.19008264e+06]\n",
            " [1.13131313e+03 1.27986940e+06]\n",
            " [1.17171717e+03 1.37292113e+06]\n",
            " [1.21212121e+03 1.46923783e+06]\n",
            " [1.25252525e+03 1.56881951e+06]\n",
            " [1.29292929e+03 1.67166616e+06]\n",
            " [1.33333333e+03 1.77777778e+06]\n",
            " [1.37373737e+03 1.88715437e+06]\n",
            " [1.41414141e+03 1.99979594e+06]\n",
            " [1.45454545e+03 2.11570248e+06]\n",
            " [1.49494949e+03 2.23487399e+06]\n",
            " [1.53535354e+03 2.35731048e+06]\n",
            " [1.57575758e+03 2.48301194e+06]\n",
            " [1.61616162e+03 2.61197837e+06]\n",
            " [1.65656566e+03 2.74420977e+06]\n",
            " [1.69696970e+03 2.87970615e+06]\n",
            " [1.73737374e+03 3.01846750e+06]\n",
            " [1.77777778e+03 3.16049383e+06]\n",
            " [1.81818182e+03 3.30578512e+06]\n",
            " [1.85858586e+03 3.45434139e+06]\n",
            " [1.89898990e+03 3.60616264e+06]\n",
            " [1.93939394e+03 3.76124885e+06]\n",
            " [1.97979798e+03 3.91960004e+06]\n",
            " [2.02020202e+03 4.08121620e+06]\n",
            " [2.06060606e+03 4.24609734e+06]\n",
            " [2.10101010e+03 4.41424344e+06]\n",
            " [2.14141414e+03 4.58565453e+06]\n",
            " [2.18181818e+03 4.76033058e+06]\n",
            " [2.22222222e+03 4.93827160e+06]\n",
            " [2.26262626e+03 5.11947760e+06]\n",
            " [2.30303030e+03 5.30394858e+06]\n",
            " [2.34343434e+03 5.49168452e+06]\n",
            " [2.38383838e+03 5.68268544e+06]\n",
            " [2.42424242e+03 5.87695133e+06]\n",
            " [2.46464646e+03 6.07448220e+06]\n",
            " [2.50505051e+03 6.27527803e+06]\n",
            " [2.54545455e+03 6.47933884e+06]\n",
            " [2.58585859e+03 6.68666463e+06]\n",
            " [2.62626263e+03 6.89725538e+06]\n",
            " [2.66666667e+03 7.11111111e+06]\n",
            " [2.70707071e+03 7.32823181e+06]\n",
            " [2.74747475e+03 7.54861749e+06]\n",
            " [2.78787879e+03 7.77226814e+06]\n",
            " [2.82828283e+03 7.99918376e+06]\n",
            " [2.86868687e+03 8.22936435e+06]\n",
            " [2.90909091e+03 8.46280992e+06]\n",
            " [2.94949495e+03 8.69952046e+06]\n",
            " [2.98989899e+03 8.93949597e+06]\n",
            " [3.03030303e+03 9.18273646e+06]\n",
            " [3.07070707e+03 9.42924191e+06]\n",
            " [3.11111111e+03 9.67901235e+06]\n",
            " [3.15151515e+03 9.93204775e+06]\n",
            " [3.19191919e+03 1.01883481e+07]\n",
            " [3.23232323e+03 1.04479135e+07]\n",
            " [3.27272727e+03 1.07107438e+07]\n",
            " [3.31313131e+03 1.09768391e+07]\n",
            " [3.35353535e+03 1.12461994e+07]\n",
            " [3.39393939e+03 1.15188246e+07]\n",
            " [3.43434343e+03 1.17947148e+07]\n",
            " [3.47474747e+03 1.20738700e+07]\n",
            " [3.51515152e+03 1.23562902e+07]\n",
            " [3.55555556e+03 1.26419753e+07]\n",
            " [3.59595960e+03 1.29309254e+07]\n",
            " [3.63636364e+03 1.32231405e+07]\n",
            " [3.67676768e+03 1.35186205e+07]\n",
            " [3.71717172e+03 1.38173656e+07]\n",
            " [3.75757576e+03 1.41193756e+07]\n",
            " [3.79797980e+03 1.44246505e+07]\n",
            " [3.83838384e+03 1.47331905e+07]\n",
            " [3.87878788e+03 1.50449954e+07]\n",
            " [3.91919192e+03 1.53600653e+07]\n",
            " [3.95959596e+03 1.56784002e+07]\n",
            " [4.00000000e+03 1.60000000e+07]]\n",
            "Y1=  [61.30623257 61.68659475 62.06387288 62.43806694 62.80917695 63.17720289\n",
            " 63.54214478 63.90400261 64.26277637 64.61846608 64.97107173 65.32059331\n",
            " 65.66703084 66.01038431 66.35065372 66.68783906 67.02194035 67.35295758\n",
            " 67.68089075 68.00573986 68.32750491 68.6461859  68.96178282 69.27429569\n",
            " 69.5837245  69.89006925 70.19332994 70.49350657 70.79059914 71.08460765\n",
            " 71.37553211 71.6633725  71.94812883 72.2298011  72.50838931 72.78389346\n",
            " 73.05631355 73.32564959 73.59190156 73.85506947 74.11515332 74.37215312\n",
            " 74.62606885 74.87690052 75.12464814 75.36931169 75.61089118 75.84938662\n",
            " 76.08479799 76.31712531 76.54636856 76.77252775 76.99560289 77.21559396\n",
            " 77.43250098 77.64632393 77.85706283 78.06471767 78.26928844 78.47077516\n",
            " 78.66917781 78.86449641 79.05673095 79.24588143 79.43194784 79.6149302\n",
            " 79.7948285  79.97164273 80.14537291 80.31601903 80.48358109 80.64805909\n",
            " 80.80945303 80.9677629  81.12298872 81.27513048 81.42418818 81.57016182\n",
            " 81.7130514  81.85285692 81.98957838 82.12321578 82.25376912 82.3812384\n",
            " 82.50562362 82.62692479 82.74514189 82.86027493 82.97232391 83.08128883\n",
            " 83.18716969 83.2899665  83.38967924 83.48630792 83.57985254 83.67031311\n",
            " 83.75768961 83.84198205 83.92319044 84.00131476]\n"
          ]
        },
        {
          "output_type": "display_data",
          "data": {
            "text/plain": [
              "<Figure size 432x288 with 1 Axes>"
            ],
            "image/png": "[encoded data removed]"
          },
          "metadata": {}
        }
      ]
    }
  ]
}